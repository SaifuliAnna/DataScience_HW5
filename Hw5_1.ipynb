{
  "nbformat": 4,
  "nbformat_minor": 0,
  "metadata": {
    "colab": {
      "provenance": [],
      "authorship_tag": "ABX9TyOy8eF4Wx+MqDdI+m7l4EPZ",
      "include_colab_link": true
    },
    "kernelspec": {
      "name": "python3",
      "display_name": "Python 3"
    },
    "language_info": {
      "name": "python"
    }
  },
  "cells": [
    {
      "cell_type": "markdown",
      "metadata": {
        "id": "view-in-github",
        "colab_type": "text"
      },
      "source": [
        "<a href=\"https://colab.research.google.com/github/SaifuliAnna/DataScience_HW5/blob/main/Hw5_1.ipynb\" target=\"_parent\"><img src=\"https://colab.research.google.com/assets/colab-badge.svg\" alt=\"Open In Colab\"/></a>"
      ]
    },
    {
      "cell_type": "markdown",
      "source": [
        "# Первая часть\n",
        "\n",
        "Для прямоугольной области площадью 1000 м2, примыкающей к прямому участку реки, необходимо построить ограду (причем со стороны реки ограду строить не нужно). При каких размерах области $a$, $b$ длина ограды будет минимальной? Используйте функцию $minimize$ с параметрами ограничениями $bounds$ и $constraints$"
      ],
      "metadata": {
        "id": "uDax4-wyDcza"
      }
    },
    {
      "cell_type": "code",
      "execution_count": null,
      "metadata": {
        "id": "WtuQF7F6ktb4"
      },
      "outputs": [],
      "source": [
        "from scipy.optimize import minimize\n",
        "import numpy as np"
      ]
    },
    {
      "cell_type": "markdown",
      "source": [
        "# 1 спосіб"
      ],
      "metadata": {
        "id": "WVIHwiG2GZgv"
      }
    },
    {
      "cell_type": "code",
      "source": [
        "def f_one(y):\n",
        "    return 2000 / y\n",
        "\n",
        "y = np.linspace(1, 100, 100)"
      ],
      "metadata": {
        "id": "3-q2qL5dGUOv"
      },
      "execution_count": null,
      "outputs": []
    },
    {
      "cell_type": "code",
      "source": [
        "m_y1 = minimize(f_one, [20], constraints=({'type': 'ineq', 'fun': lambda y: y}))\n",
        "m_y1"
      ],
      "metadata": {
        "colab": {
          "base_uri": "https://localhost:8080/"
        },
        "id": "uj1_4UyuaykF",
        "outputId": "1dd5aa0e-838a-4326-9c1d-05df491750bc"
      },
      "execution_count": null,
      "outputs": [
        {
          "output_type": "execute_result",
          "data": {
            "text/plain": [
              "     fun: array([1.70600476e-05])\n",
              "     jac: array([0.])\n",
              " message: 'Optimization terminated successfully'\n",
              "    nfev: 112\n",
              "     nit: 56\n",
              "    njev: 56\n",
              "  status: 0\n",
              " success: True\n",
              "       x: array([1.17232967e+08])"
            ]
          },
          "metadata": {},
          "execution_count": 312
        }
      ]
    },
    {
      "cell_type": "code",
      "source": [
        "m_y2 = minimize(f_one, [46], bounds=[(0.01, None)])\n",
        "m_y2"
      ],
      "metadata": {
        "colab": {
          "base_uri": "https://localhost:8080/"
        },
        "id": "Vr9_uGGFayX0",
        "outputId": "1f696a9d-e925-4639-d2df-83f2e4bfa84d"
      },
      "execution_count": null,
      "outputs": [
        {
          "output_type": "execute_result",
          "data": {
            "text/plain": [
              "      fun: array([0.14133151])\n",
              " hess_inv: <1x1 LbfgsInvHessProduct with dtype=float64>\n",
              "      jac: array([-9.98565352e-06])\n",
              "  message: 'CONVERGENCE: NORM_OF_PROJECTED_GRADIENT_<=_PGTOL'\n",
              "     nfev: 44\n",
              "      nit: 21\n",
              "     njev: 22\n",
              "   status: 0\n",
              "  success: True\n",
              "        x: array([14151.12635407])"
            ]
          },
          "metadata": {},
          "execution_count": 311
        }
      ]
    },
    {
      "cell_type": "code",
      "source": [
        "m_y3 = minimize(f_one, [20], bounds=[(0.01, None)], constraints=({'type': 'ineq', 'fun': lambda y: y}))\n",
        "m_y3"
      ],
      "metadata": {
        "colab": {
          "base_uri": "https://localhost:8080/"
        },
        "id": "yVnv254lbNXT",
        "outputId": "a35e1b10-bd0e-4381-e532-56230365f209"
      },
      "execution_count": null,
      "outputs": [
        {
          "output_type": "execute_result",
          "data": {
            "text/plain": [
              "     fun: array([1.70600476e-05])\n",
              "     jac: array([0.])\n",
              " message: 'Optimization terminated successfully'\n",
              "    nfev: 112\n",
              "     nit: 56\n",
              "    njev: 56\n",
              "  status: 0\n",
              " success: True\n",
              "       x: array([1.17232967e+08])"
            ]
          },
          "metadata": {},
          "execution_count": 307
        }
      ]
    },
    {
      "cell_type": "markdown",
      "source": [
        "# 2 спосіб\n"
      ],
      "metadata": {
        "id": "40wBPxGoGW5C"
      }
    },
    {
      "cell_type": "code",
      "source": [
        "def f_two(x):\n",
        "    return (2 * x**2 + 1000) / x\n",
        "\n",
        "x = np.linspace(1, 100, 100)"
      ],
      "metadata": {
        "id": "91H_xoGRGnz0"
      },
      "execution_count": null,
      "outputs": []
    },
    {
      "cell_type": "code",
      "source": [
        "m_x1 = minimize(f_two, [20], constraints=({'type': 'ineq', 'fun': lambda x: x}))\n",
        "m_x1"
      ],
      "metadata": {
        "colab": {
          "base_uri": "https://localhost:8080/"
        },
        "id": "1HaUT1ZDMj4T",
        "outputId": "72ea7f14-7e51-4bef-de76-a7dbe292a552"
      },
      "execution_count": null,
      "outputs": [
        {
          "output_type": "execute_result",
          "data": {
            "text/plain": [
              "     fun: array([89.44271914])\n",
              "     jac: array([-0.00012016])\n",
              " message: 'Optimization terminated successfully'\n",
              "    nfev: 10\n",
              "     nit: 5\n",
              "    njev: 5\n",
              "  status: 0\n",
              " success: True\n",
              "       x: array([22.36001079])"
            ]
          },
          "metadata": {},
          "execution_count": 306
        }
      ]
    },
    {
      "cell_type": "code",
      "source": [
        "m_x2 = minimize(f_two, [20], bounds=[(0.01, None)])\n",
        "m_x2"
      ],
      "metadata": {
        "colab": {
          "base_uri": "https://localhost:8080/"
        },
        "id": "9qc4FxC2ZfwQ",
        "outputId": "45318888-9196-4303-9cc3-94bf59d39da5"
      },
      "execution_count": null,
      "outputs": [
        {
          "output_type": "execute_result",
          "data": {
            "text/plain": [
              "      fun: array([89.4427191])\n",
              " hess_inv: <1x1 LbfgsInvHessProduct with dtype=float64>\n",
              "      jac: array([0.])\n",
              "  message: 'CONVERGENCE: NORM_OF_PROJECTED_GRADIENT_<=_PGTOL'\n",
              "     nfev: 12\n",
              "      nit: 5\n",
              "     njev: 6\n",
              "   status: 0\n",
              "  success: True\n",
              "        x: array([22.36068377])"
            ]
          },
          "metadata": {},
          "execution_count": 305
        }
      ]
    },
    {
      "cell_type": "code",
      "source": [
        "m_x3 = minimize(f_two, [20], bounds=[(0.01, None)], constraints=({'type': 'ineq', 'fun': lambda x: x}))\n",
        "m_x3"
      ],
      "metadata": {
        "colab": {
          "base_uri": "https://localhost:8080/"
        },
        "id": "La2H1SJpbszQ",
        "outputId": "4e8df158-1111-42f1-906b-0355732ffc97"
      },
      "execution_count": null,
      "outputs": [
        {
          "output_type": "execute_result",
          "data": {
            "text/plain": [
              "     fun: array([89.44271914])\n",
              "     jac: array([-0.00012016])\n",
              " message: 'Optimization terminated successfully'\n",
              "    nfev: 10\n",
              "     nit: 5\n",
              "    njev: 5\n",
              "  status: 0\n",
              " success: True\n",
              "       x: array([22.36001079])"
            ]
          },
          "metadata": {},
          "execution_count": 304
        }
      ]
    },
    {
      "cell_type": "markdown",
      "source": [
        "# 3 спосіб\n"
      ],
      "metadata": {
        "id": "SonHg2ebHRCm"
      }
    },
    {
      "cell_type": "code",
      "source": [
        "def f_three(x, y):\n",
        "    return 2 * x + y"
      ],
      "metadata": {
        "id": "sdtykCmQb-z4"
      },
      "execution_count": null,
      "outputs": []
    },
    {
      "cell_type": "code",
      "source": [
        "m_z1 = minimize(f_three, [20], [80], constraints=({'type': 'ineq', 'fun': lambda x: x}))\n",
        "m_z1"
      ],
      "metadata": {
        "colab": {
          "base_uri": "https://localhost:8080/"
        },
        "id": "nOVDCQeJcciP",
        "outputId": "52525f4d-85fc-4d44-ce6f-9075eb5bbdd8"
      },
      "execution_count": null,
      "outputs": [
        {
          "output_type": "execute_result",
          "data": {
            "text/plain": [
              "     fun: array([80.])\n",
              "     jac: array([2.])\n",
              " message: 'Optimization terminated successfully'\n",
              "    nfev: 8\n",
              "     nit: 4\n",
              "    njev: 4\n",
              "  status: 0\n",
              " success: True\n",
              "       x: array([-1.26298971e-12])"
            ]
          },
          "metadata": {},
          "execution_count": 301
        }
      ]
    },
    {
      "cell_type": "code",
      "source": [
        "m_z2 = minimize(f_three, [20], [80], bounds=[(0.01, None)])\n",
        "m_z2"
      ],
      "metadata": {
        "colab": {
          "base_uri": "https://localhost:8080/"
        },
        "id": "vuKJkvmjclab",
        "outputId": "3cd0ca3c-e7cb-420a-ddd7-f51ca4fe5a20"
      },
      "execution_count": null,
      "outputs": [
        {
          "output_type": "execute_result",
          "data": {
            "text/plain": [
              "      fun: array([80.02])\n",
              " hess_inv: <1x1 LbfgsInvHessProduct with dtype=float64>\n",
              "      jac: array([1.99999874])\n",
              "  message: 'CONVERGENCE: NORM_OF_PROJECTED_GRADIENT_<=_PGTOL'\n",
              "     nfev: 12\n",
              "      nit: 2\n",
              "     njev: 6\n",
              "   status: 0\n",
              "  success: True\n",
              "        x: array([0.01])"
            ]
          },
          "metadata": {},
          "execution_count": 302
        }
      ]
    },
    {
      "cell_type": "code",
      "source": [
        "m_z3 = minimize(f_three, [20], [80], bounds=[(0.01, None)], constraints=({'type': 'ineq', 'fun': lambda x: x}))\n",
        "m_z3"
      ],
      "metadata": {
        "colab": {
          "base_uri": "https://localhost:8080/"
        },
        "id": "TwV84pjxcqSb",
        "outputId": "8728e3a2-6cbc-4723-f707-7b228d479f61"
      },
      "execution_count": null,
      "outputs": [
        {
          "output_type": "execute_result",
          "data": {
            "text/plain": [
              "     fun: array([80.02])\n",
              "     jac: array([2.])\n",
              " message: 'Optimization terminated successfully'\n",
              "    nfev: 8\n",
              "     nit: 4\n",
              "    njev: 4\n",
              "  status: 0\n",
              " success: True\n",
              "       x: array([0.01])"
            ]
          },
          "metadata": {},
          "execution_count": 303
        }
      ]
    }
  ]
}